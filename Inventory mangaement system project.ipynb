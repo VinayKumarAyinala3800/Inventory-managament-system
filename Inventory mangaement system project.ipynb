{
 "cells": [
  {
   "cell_type": "code",
   "execution_count": null,
   "id": "614b9bd7",
   "metadata": {},
   "outputs": [],
   "source": [
    "fd = open('inventory.txt','w')\n",
    "fd.close()"
   ]
  },
  {
   "cell_type": "markdown",
   "id": "861c7893",
   "metadata": {},
   "source": [
    "# product details\n",
    "1.product id\n",
    "2.Name of product\n",
    "3.Price of product\n",
    "4.Quantity\n"
   ]
  },
  {
   "cell_type": "code",
   "execution_count": 8,
   "id": "d1f8616d",
   "metadata": {},
   "outputs": [],
   "source": [
    "fd = open('inventory.txt','r')\n",
    "products = fd.read().split('\\n')\n",
    "fd.close()"
   ]
  },
  {
   "cell_type": "code",
   "execution_count": 12,
   "id": "8a2cf71a",
   "metadata": {},
   "outputs": [
    {
     "name": "stdout",
     "output_type": "stream",
     "text": [
      "1,5 star,5,100\n",
      "2,Milky bar,5,100\n",
      "3,Cake,300,5\n",
      "4,Candy,1,50\n"
     ]
    }
   ],
   "source": [
    "for i in products:\n",
    "    print(i)"
   ]
  },
  {
   "cell_type": "code",
   "execution_count": null,
   "id": "c8c8f7b1",
   "metadata": {},
   "outputs": [],
   "source": [
    "import time\n",
    "\n",
    "#Reading the inventory\n",
    "fd = open('inventory.txt','r')\n",
    "products = fd.read().split('\\n')\n",
    "fd.close()\n",
    "\n",
    "#taking the user input\n",
    "ui_username = input(\"Enter your Name : \")\n",
    "ui_phone = input(\"Enter your Phone no : \")\n",
    "ui_mail = input(\"Enter your mail: \")\n",
    "ui_prod_id = input(\"Enter the product ID : \")\n",
    "ui_prod_qn = input(\"Enter the product Quantity : \")\n",
    "\n",
    "updated_product_list = []\n",
    "\n",
    "#Going through each product\n",
    "for product in products:\n",
    "    \n",
    "    prod_details = product.split(',')\n",
    "    \n",
    "    if (int(ui_prod_qn) <= int(prod_details[3])):\n",
    "    #Checking if product exists or not\n",
    "    \n",
    "        if (product.split(',')[0] == ui_prod_id):\n",
    "            \n",
    "            #checking if we are having enough quanity\n",
    "            print(\"-\"*30)\n",
    "            print(\"Product name       :\",prod_details[1])\n",
    "            print(\"Price of product   :\",prod_details[2])\n",
    "            print(\"Quantity           :\",ui_prod_qn)\n",
    "            print(\"-\"*30)\n",
    "            print(\"billing amount     :\",int(ui_prod_qn) * int(prod_details[2]))\n",
    "            print(\"-\"*30)\n",
    "            \n",
    "             #Updating my inventory list\n",
    "            prod_details[3] = str(int(prod_details[3]) - int(ui_prod_qn))\n",
    "            \n",
    "            #Generating saes in Sales.txt\n",
    "            fd = open(\"Sales.txt\",'a')\n",
    "            sale_details = ui_username + ',' + ui_phone + ','+ ui_mail + ',' + ui_prod_qn+ ',' + int(ui_prod_qn) * int(prod_details[2])+',' + time.ctime() + '\\n'\n",
    "            fd.write(sales_details)\n",
    "            fd.close()\n",
    "        else:\n",
    "            #checking if we are having not enough quanity\n",
    "            \n",
    "            print(\"Sorry we're not having enough quantity\")\n",
    "            print(\"We're having only\",prod_details[3],'quatity')\n",
    "            print(\"would you like to purchase it?\")\n",
    "            \n",
    "            ch = input(\"Press Y/N\")\n",
    "            \n",
    "            if (ch=='Y' or ch == 'y'):\n",
    "                \n",
    "                \n",
    "                #if you want to purchase with remaining quantity\n",
    "                \n",
    "                print(\"-\"*30)\n",
    "                print(\"Product name       :\",prod_details[1])\n",
    "                print(\"Price of product   :\",prod_details[2])\n",
    "                print(\"Quantity           :\",prod_details[3])\n",
    "                print(\"-\"*30)\n",
    "                print(\"billing amount     :\",int(ui_prod_qn) * int(prod_details[2]))\n",
    "                print(\"-\"*30)\n",
    "                \n",
    "                \n",
    "                \n",
    "                #Generating saes in Sales.txt\n",
    "                fd = open(\"Sales.txt\",'a')\n",
    "                sale_details = ui_username + ',' + ui_phone + ','+ ui_mail + ',' + ui_prod_qn+ ',' + int(prod_details[3]) * int(prod_details[2])+',' + time.ctime() + '\\n'\n",
    "                fd.write(sales_details)\n",
    "                fd.close()\n",
    "                \n",
    "                #Updating the inventory list\n",
    "                prod_details[3] = '0'\n",
    "            else:\n",
    "                print(\"Thank you \")\n",
    "        \n",
    "        #Updating my inventory list\n",
    "        \n",
    "        updated_product_list.append(prod_details)\n",
    "    \n",
    "lst = []\n",
    "\n",
    "#Updating my inventory String\n",
    "for i in updated_product_list:\n",
    "    prod = (i[0] + ',' + i[1]+ ','  + i[2]+ ','  + i[3] + '\\n')\n",
    "    lst.append(prod)\n",
    "lst[-1] = lst[-1][:-1]\n",
    "\n",
    "#Updating my inventory file\n",
    "fd = open('inventory.txt','w')\n",
    "for i in lst:\n",
    "    fd.write(i)\n",
    "fd.close()\n",
    "ptint(\"-\"*30)\n",
    "print(\"Inventory updated\")"
   ]
  },
  {
   "cell_type": "code",
   "execution_count": 28,
   "id": "8d8e3c6d",
   "metadata": {},
   "outputs": [
    {
     "name": "stdout",
     "output_type": "stream",
     "text": [
      "1,5 star,5,100\n",
      "2,Milky bar,5,100\n",
      "3,Cake,300,5\n",
      "4,Candy,1,50\n"
     ]
    }
   ],
   "source": []
  },
  {
   "cell_type": "code",
   "execution_count": 38,
   "id": "21e1a410",
   "metadata": {},
   "outputs": [],
   "source": [
    "lst = []\n",
    "for i in updated_product_list:\n",
    "    prod = (i[0] + ',' + i[1]+ ','  + i[2]+ ','  + i[3])\n",
    "    lst.append(prod)"
   ]
  },
  {
   "cell_type": "code",
   "execution_count": 40,
   "id": "4bf95b80",
   "metadata": {},
   "outputs": [],
   "source": [
    "lst[-1] = lst[-1][:-1]"
   ]
  },
  {
   "cell_type": "code",
   "execution_count": 41,
   "id": "a7969d5d",
   "metadata": {},
   "outputs": [
    {
     "data": {
      "text/plain": [
       "['1,5 star,5,98', '2,Milky bar,5,100', '3,Cake,300,5', '4,Candy,1,5']"
      ]
     },
     "execution_count": 41,
     "metadata": {},
     "output_type": "execute_result"
    }
   ],
   "source": [
    "lst "
   ]
  },
  {
   "cell_type": "code",
   "execution_count": null,
   "id": "f5f836b2",
   "metadata": {},
   "outputs": [],
   "source": [
    "fd = open('inventory.txt','w')\n",
    "for i in updated_product_list:\n",
    "    prod = (i[0] + ',' + i[1]+ ','  + i[2]+ ','  + i[3] + '\\n')\n",
    "    fd.write(prod)\n",
    "fd.close()"
   ]
  }
 ],
 "metadata": {
  "kernelspec": {
   "display_name": "Python 3 (ipykernel)",
   "language": "python",
   "name": "python3"
  },
  "language_info": {
   "codemirror_mode": {
    "name": "ipython",
    "version": 3
   },
   "file_extension": ".py",
   "mimetype": "text/x-python",
   "name": "python",
   "nbconvert_exporter": "python",
   "pygments_lexer": "ipython3",
   "version": "3.10.9"
  }
 },
 "nbformat": 4,
 "nbformat_minor": 5
}
